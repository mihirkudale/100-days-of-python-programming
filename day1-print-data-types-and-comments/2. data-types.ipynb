{
 "cells": [
  {
   "cell_type": "markdown",
   "id": "d9b5051b",
   "metadata": {},
   "source": [
    "### Python supports 3 categories of data types:\n",
    "- Basic Types - (integer,float,complex,boolean and string)\n",
    "- Container Types - (List,Tuples, Sets and Dictionary)\n",
    "- User-defined Types - Class"
   ]
  },
  {
   "cell_type": "code",
   "execution_count": 1,
   "id": "cc9c1db5",
   "metadata": {},
   "outputs": [
    {
     "name": "stdout",
     "output_type": "stream",
     "text": [
      "4\n",
      "inf\n"
     ]
    }
   ],
   "source": [
    "# integer\n",
    "print(4)\n",
    "print(1e309)"
   ]
  },
  {
   "cell_type": "markdown",
   "id": "cc7c91b6-f678-4809-b4b0-6a8888f122ba",
   "metadata": {},
   "source": [
    "\"print(1e309)\" would result in the output \"inf\", which stands for infinity. This is because 1 followed by 309 zeros is a number that exceeds the maximum value that can be represented by a float in Python, which is approximately 1.8 x 10^308. When a number is too large to be represented as a float, Python automatically converts it to the special value of \"inf\"."
   ]
  },
  {
   "cell_type": "code",
   "execution_count": 2,
   "id": "54e2611a",
   "metadata": {},
   "outputs": [
    {
     "name": "stdout",
     "output_type": "stream",
     "text": [
      "4.5\n",
      "1.7e+308\n"
     ]
    }
   ],
   "source": [
    "# float\n",
    "print(4.5)\n",
    "print(1.7e308)"
   ]
  },
  {
   "cell_type": "markdown",
   "id": "18f5506f-d528-489e-8c49-b0c6d6e3bc50",
   "metadata": {},
   "source": [
    " \"print(1.7e308)\" would output the number 1.7 x 10^308. This number is within the range of values that can be represented by a float in Python, which has a maximum value of approximately 1.8 x 10^308."
   ]
  },
  {
   "cell_type": "code",
   "execution_count": 3,
   "id": "51bf1fcc",
   "metadata": {},
   "outputs": [
    {
     "name": "stdout",
     "output_type": "stream",
     "text": [
      "True\n",
      "False\n"
     ]
    }
   ],
   "source": [
    "# boolean\n",
    "print(True)\n",
    "print(False)"
   ]
  },
  {
   "cell_type": "code",
   "execution_count": 4,
   "id": "b3f990ee",
   "metadata": {},
   "outputs": [
    {
     "name": "stdout",
     "output_type": "stream",
     "text": [
      "(4+5j)\n"
     ]
    }
   ],
   "source": [
    "# complex\n",
    "print(4+5j)"
   ]
  },
  {
   "cell_type": "code",
   "execution_count": 5,
   "id": "faf86ad2",
   "metadata": {},
   "outputs": [
    {
     "name": "stdout",
     "output_type": "stream",
     "text": [
      "Kolkata\n",
      "Kolkata\n",
      "Kolkata\n"
     ]
    }
   ],
   "source": [
    "# string\n",
    "print('Kolkata')\n",
    "print(\"Kolkata\")\n",
    "print(\"\"\"Kolkata\"\"\")"
   ]
  },
  {
   "cell_type": "code",
   "execution_count": 6,
   "id": "6a11154b",
   "metadata": {},
   "outputs": [
    {
     "name": "stdout",
     "output_type": "stream",
     "text": [
      "[1, 2, 3, 4, 5]\n"
     ]
    }
   ],
   "source": [
    "# list\n",
    "print([1,2,3,4,5])"
   ]
  },
  {
   "cell_type": "code",
   "execution_count": 7,
   "id": "d692b59d",
   "metadata": {},
   "outputs": [
    {
     "name": "stdout",
     "output_type": "stream",
     "text": [
      "(1, 2, 3, 4, 5)\n"
     ]
    }
   ],
   "source": [
    "# tuple\n",
    "print((1,2,3,4,5))"
   ]
  },
  {
   "cell_type": "code",
   "execution_count": 8,
   "id": "466727f1",
   "metadata": {},
   "outputs": [
    {
     "name": "stdout",
     "output_type": "stream",
     "text": [
      "{1, 2, 3, 4, 5}\n"
     ]
    }
   ],
   "source": [
    "#sets\n",
    "print({1,2,3,4,5})"
   ]
  },
  {
   "cell_type": "code",
   "execution_count": 9,
   "id": "b2f58f88",
   "metadata": {},
   "outputs": [
    {
     "name": "stdout",
     "output_type": "stream",
     "text": [
      "{'Name': 'Nitish', 'Age': 30, 'gender': 'Male'}\n"
     ]
    }
   ],
   "source": [
    "# dict\n",
    "print({\"Name\":\"Nitish\",\"Age\":30,\"gender\":\"Male\"})"
   ]
  },
  {
   "cell_type": "code",
   "execution_count": null,
   "id": "d9edefba",
   "metadata": {},
   "outputs": [],
   "source": []
  }
 ],
 "metadata": {
  "kernelspec": {
   "display_name": "Python 3 (ipykernel)",
   "language": "python",
   "name": "python3"
  },
  "language_info": {
   "codemirror_mode": {
    "name": "ipython",
    "version": 3
   },
   "file_extension": ".py",
   "mimetype": "text/x-python",
   "name": "python",
   "nbconvert_exporter": "python",
   "pygments_lexer": "ipython3",
   "version": "3.8.16"
  }
 },
 "nbformat": 4,
 "nbformat_minor": 5
}
